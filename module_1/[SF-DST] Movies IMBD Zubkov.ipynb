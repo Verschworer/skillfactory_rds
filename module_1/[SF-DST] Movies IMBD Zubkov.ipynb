{
 "cells": [
  {
   "cell_type": "code",
   "execution_count": 1,
   "metadata": {
    "_cell_guid": "b1076dfc-b9ad-4769-8c92-a6c4dae69d19",
    "_uuid": "8f2839f25d086af736a60e9eeb907d3b93b6e0e5"
   },
   "outputs": [
    {
     "name": "stdout",
     "output_type": "stream",
     "text": [
      "['[SF-DST] Movies IMBD v3.0.ipynb', 'data.csv', '@@@@.ipynb', '.ipynb_checkpoints']\n"
     ]
    }
   ],
   "source": [
    "import numpy as np\n",
    "import pandas as pd\n",
    "import seaborn as sns\n",
    "import matplotlib.pyplot as plt\n",
    "import os\n",
    "from collections import Counter\n",
    "print(os.listdir(\"/Users/verschworer/work/SF/1 000 000\"))"
   ]
  },
  {
   "cell_type": "code",
   "execution_count": 2,
   "metadata": {},
   "outputs": [
    {
     "data": {
      "text/html": [
       "<div>\n",
       "<style scoped>\n",
       "    .dataframe tbody tr th:only-of-type {\n",
       "        vertical-align: middle;\n",
       "    }\n",
       "\n",
       "    .dataframe tbody tr th {\n",
       "        vertical-align: top;\n",
       "    }\n",
       "\n",
       "    .dataframe thead th {\n",
       "        text-align: right;\n",
       "    }\n",
       "</style>\n",
       "<table border=\"1\" class=\"dataframe\">\n",
       "  <thead>\n",
       "    <tr style=\"text-align: right;\">\n",
       "      <th></th>\n",
       "      <th>imdb_id</th>\n",
       "      <th>popularity</th>\n",
       "      <th>budget</th>\n",
       "      <th>revenue</th>\n",
       "      <th>original_title</th>\n",
       "      <th>cast</th>\n",
       "      <th>director</th>\n",
       "      <th>tagline</th>\n",
       "      <th>overview</th>\n",
       "      <th>runtime</th>\n",
       "      <th>genres</th>\n",
       "      <th>production_companies</th>\n",
       "      <th>release_date</th>\n",
       "      <th>vote_count</th>\n",
       "      <th>vote_average</th>\n",
       "      <th>release_year</th>\n",
       "    </tr>\n",
       "  </thead>\n",
       "  <tbody>\n",
       "  </tbody>\n",
       "</table>\n",
       "</div>"
      ],
      "text/plain": [
       "Empty DataFrame\n",
       "Columns: [imdb_id, popularity, budget, revenue, original_title, cast, director, tagline, overview, runtime, genres, production_companies, release_date, vote_count, vote_average, release_year]\n",
       "Index: []"
      ]
     },
     "execution_count": 2,
     "metadata": {},
     "output_type": "execute_result"
    }
   ],
   "source": [
    "data = pd.read_csv('data.csv')\n",
    "data.head(0)"
   ]
  },
  {
   "cell_type": "code",
   "execution_count": 3,
   "metadata": {},
   "outputs": [
    {
     "data": {
      "text/plain": [
       "1890"
      ]
     },
     "execution_count": 3,
     "metadata": {},
     "output_type": "execute_result"
    }
   ],
   "source": [
    "len(data)"
   ]
  },
  {
   "cell_type": "markdown",
   "metadata": {},
   "source": [
    "# Предобработка датасета"
   ]
  },
  {
   "cell_type": "code",
   "execution_count": 4,
   "metadata": {},
   "outputs": [],
   "source": [
    "answer_ls = [] # создадим список с ответами. сюда будем добавлять ответы по мере прохождения теста\n",
    "# сюда можем вписать создание новых колонок в датасете"
   ]
  },
  {
   "cell_type": "markdown",
   "metadata": {},
   "source": [
    "# 1. У какого фильма из списка самый большой бюджет?\n",
    "Варианты ответов:\n",
    "1. The Dark Knight Rises (tt1345836)\n",
    "2. Spider-Man 3 (tt0413300)\n",
    "3. Avengers: Age of Ultron (tt2395427)\n",
    "4. The Warrior's Way\t(tt1032751)\n",
    "5. Pirates of the Caribbean: On Stranger Tides (tt1298650)"
   ]
  },
  {
   "cell_type": "code",
   "execution_count": 5,
   "metadata": {},
   "outputs": [
    {
     "data": {
      "text/plain": [
       "imdb_id\n",
       "tt1032751    425000000\n",
       "tt1298650    380000000\n",
       "tt2395427    280000000\n",
       "tt0413300    258000000\n",
       "tt1345836    250000000\n",
       "Name: budget, dtype: int64"
      ]
     },
     "execution_count": 5,
     "metadata": {},
     "output_type": "execute_result"
    }
   ],
   "source": [
    "q1_pivot = data.loc[data['imdb_id'].isin\n",
    "(['tt1345836','tt0413300','tt2395427','tt1032751','tt1298650'])].pivot_table(values=['budget'],\n",
    "index=['imdb_id'])\n",
    "q1_pivot.budget.sort_values(ascending=False)"
   ]
  },
  {
   "cell_type": "code",
   "execution_count": 6,
   "metadata": {},
   "outputs": [],
   "source": [
    "answer_ls.append(4)"
   ]
  },
  {
   "cell_type": "markdown",
   "metadata": {},
   "source": [
    "# 2. Какой из фильмов самый длительный (в минутах)\n",
    "1. The Lord of the Rings: The Return of the King\t(tt0167260)\n",
    "2. Gods and Generals\t(tt0279111)\n",
    "3. King Kong\t(tt0360717)\n",
    "4. Pearl Harbor\t(tt0213149)\n",
    "5. Alexander\t(tt0346491)"
   ]
  },
  {
   "cell_type": "code",
   "execution_count": 7,
   "metadata": {},
   "outputs": [
    {
     "data": {
      "text/plain": [
       "imdb_id\n",
       "tt0279111    214\n",
       "tt0167260    201\n",
       "tt0360717    187\n",
       "tt0213149    183\n",
       "tt0346491    175\n",
       "Name: runtime, dtype: int64"
      ]
     },
     "execution_count": 7,
     "metadata": {},
     "output_type": "execute_result"
    }
   ],
   "source": [
    "q2_pivot = data.loc[data['imdb_id'].isin\n",
    "(['tt0167260','tt0279111','tt0360717','tt0213149','tt0346491'])].pivot_table(values=['runtime'],\n",
    "index=['imdb_id'])\n",
    "q2_pivot.runtime.sort_values(ascending=False)"
   ]
  },
  {
   "cell_type": "code",
   "execution_count": 8,
   "metadata": {},
   "outputs": [],
   "source": [
    "answer_ls.append(2)"
   ]
  },
  {
   "cell_type": "markdown",
   "metadata": {},
   "source": [
    "# 3. Какой из фильмов самый короткий (в минутах)\n",
    "Варианты ответов:\n",
    "\n",
    "1. Home on the Range\ttt0299172\n",
    "2. The Jungle Book 2\ttt0283426\n",
    "3. Winnie the Pooh\ttt1449283\n",
    "4. Corpse Bride\ttt0121164\n",
    "5. Hoodwinked!\ttt0443536"
   ]
  },
  {
   "cell_type": "code",
   "execution_count": 9,
   "metadata": {},
   "outputs": [
    {
     "data": {
      "text/plain": [
       "imdb_id\n",
       "tt1449283    63\n",
       "tt0283426    72\n",
       "tt0299172    76\n",
       "tt0121164    77\n",
       "tt0443536    80\n",
       "Name: runtime, dtype: int64"
      ]
     },
     "execution_count": 9,
     "metadata": {},
     "output_type": "execute_result"
    }
   ],
   "source": [
    "q3_pivot = data.loc[data['imdb_id'].isin\n",
    "(['tt0299172','tt0283426','tt1449283','tt0121164','tt0443536'])].pivot_table(values=['runtime'],\n",
    "index=['imdb_id'])\n",
    "q3_pivot.runtime.sort_values(ascending=True)"
   ]
  },
  {
   "cell_type": "code",
   "execution_count": 10,
   "metadata": {},
   "outputs": [],
   "source": [
    "answer_ls.append(3)"
   ]
  },
  {
   "cell_type": "markdown",
   "metadata": {},
   "source": [
    "# 4. Средняя длительность фильма?\n",
    "\n",
    "Варианты ответов:\n",
    "1. 115\n",
    "2. 110\n",
    "3. 105\n",
    "4. 120\n",
    "5. 100\n"
   ]
  },
  {
   "cell_type": "code",
   "execution_count": 11,
   "metadata": {},
   "outputs": [
    {
     "data": {
      "text/plain": [
       "109.65343915343915"
      ]
     },
     "execution_count": 11,
     "metadata": {},
     "output_type": "execute_result"
    }
   ],
   "source": [
    "data.runtime.mean()"
   ]
  },
  {
   "cell_type": "code",
   "execution_count": 12,
   "metadata": {},
   "outputs": [],
   "source": [
    "answer_ls.append(2)"
   ]
  },
  {
   "cell_type": "markdown",
   "metadata": {},
   "source": [
    "# 5. Средняя длительность фильма по медиане?\n",
    "Варианты ответов:\n",
    "1. 106\n",
    "2. 112\n",
    "3. 101\n",
    "4. 120\n",
    "5. 115\n",
    "\n",
    "\n"
   ]
  },
  {
   "cell_type": "code",
   "execution_count": 13,
   "metadata": {},
   "outputs": [
    {
     "data": {
      "text/plain": [
       "106.5"
      ]
     },
     "execution_count": 13,
     "metadata": {},
     "output_type": "execute_result"
    }
   ],
   "source": [
    "data.runtime.median()"
   ]
  },
  {
   "cell_type": "code",
   "execution_count": 14,
   "metadata": {},
   "outputs": [],
   "source": [
    "answer_ls.append(1)"
   ]
  },
  {
   "cell_type": "markdown",
   "metadata": {},
   "source": [
    "# 6. Какой самый прибыльный фильм?\n",
    "Варианты ответов:\n",
    "1. The Avengers\ttt0848228\n",
    "2. Minions\ttt2293640\n",
    "3. Star Wars: The Force Awakens\ttt2488496\n",
    "4. Furious 7\ttt2820852\n",
    "5. Avatar\ttt0499549"
   ]
  },
  {
   "cell_type": "code",
   "execution_count": 15,
   "metadata": {},
   "outputs": [
    {
     "name": "stdout",
     "output_type": "stream",
     "text": [
      "1513528810 150000000 1363528810\n"
     ]
    }
   ],
   "source": [
    "data['profit'] = data.revenue - data.budget\n",
    "print(data.revenue[0], data.budget[0], data.profit[0])"
   ]
  },
  {
   "cell_type": "code",
   "execution_count": 16,
   "metadata": {},
   "outputs": [
    {
     "data": {
      "text/plain": [
       "imdb_id\n",
       "tt0499549    2544505847\n",
       "tt2488496    1868178225\n",
       "tt2820852    1316249360\n",
       "tt0848228    1299557910\n",
       "tt2293640    1082730962\n",
       "Name: profit, dtype: int64"
      ]
     },
     "execution_count": 16,
     "metadata": {},
     "output_type": "execute_result"
    }
   ],
   "source": [
    "q6_pivot = data.loc[data['imdb_id'].isin\n",
    "(['tt0848228','tt2293640','tt2488496','tt2820852','tt0499549'])].pivot_table(values=['profit'],\n",
    "index=['imdb_id'])\n",
    "q6_pivot.profit.sort_values(ascending=False)"
   ]
  },
  {
   "cell_type": "code",
   "execution_count": 17,
   "metadata": {},
   "outputs": [],
   "source": [
    "answer_ls.append(5)"
   ]
  },
  {
   "cell_type": "markdown",
   "metadata": {},
   "source": [
    "# 7. Какой фильм самый убыточный?\n",
    "Варианты ответов:\n",
    "1. Supernova tt0134983\n",
    "2. The Warrior's Way tt1032751\n",
    "3. Flushed Away\ttt0424095\n",
    "4. The Adventures of Pluto Nash\ttt0180052\n",
    "5. The Lone Ranger\ttt1210819"
   ]
  },
  {
   "cell_type": "code",
   "execution_count": 18,
   "metadata": {},
   "outputs": [
    {
     "data": {
      "text/plain": [
       "imdb_id\n",
       "tt1032751   -413912431\n",
       "tt1210819   -165710090\n",
       "tt0180052    -92896027\n",
       "tt0424095    -84540684\n",
       "tt0134983    -75171919\n",
       "Name: profit, dtype: int64"
      ]
     },
     "execution_count": 18,
     "metadata": {},
     "output_type": "execute_result"
    }
   ],
   "source": [
    "q7_pivot = data.loc[data['imdb_id'].isin\n",
    "(['tt0134983','tt1032751','tt0424095','tt0180052','tt1210819'])].pivot_table(values=['profit'],\n",
    "index=['imdb_id'])\n",
    "q7_pivot.profit.sort_values(ascending=True)"
   ]
  },
  {
   "cell_type": "code",
   "execution_count": 19,
   "metadata": {},
   "outputs": [],
   "source": [
    "answer_ls.append(2)"
   ]
  },
  {
   "cell_type": "markdown",
   "metadata": {},
   "source": [
    "# 8. Сколько всего фильмов в прибыли?\n",
    "Варианты ответов:\n",
    "1. 1478\n",
    "2. 1520\n",
    "3. 1241\n",
    "4. 1135\n",
    "5. 1398\n"
   ]
  },
  {
   "cell_type": "code",
   "execution_count": 20,
   "metadata": {},
   "outputs": [
    {
     "data": {
      "text/plain": [
       "1478"
      ]
     },
     "execution_count": 20,
     "metadata": {},
     "output_type": "execute_result"
    }
   ],
   "source": [
    "data[(data['profit'] > 0)].profit.count()"
   ]
  },
  {
   "cell_type": "code",
   "execution_count": 21,
   "metadata": {},
   "outputs": [],
   "source": [
    "answer_ls.append(1)"
   ]
  },
  {
   "cell_type": "markdown",
   "metadata": {},
   "source": [
    "# 9. Самый прибыльный фильм в 2008 году?\n",
    "Варианты ответов:\n",
    "1. Madagascar: Escape 2 Africa\ttt0479952\n",
    "2. Iron Man\ttt0371746\n",
    "3. Kung Fu Panda\ttt0441773\n",
    "4. The Dark Knight\ttt0468569\n",
    "5. Mamma Mia!\ttt0795421"
   ]
  },
  {
   "cell_type": "code",
   "execution_count": 22,
   "metadata": {},
   "outputs": [
    {
     "data": {
      "text/plain": [
       "816921825"
      ]
     },
     "execution_count": 22,
     "metadata": {},
     "output_type": "execute_result"
    }
   ],
   "source": [
    "data[(data['release_year'] == 2008)].profit.max()"
   ]
  },
  {
   "cell_type": "code",
   "execution_count": 23,
   "metadata": {},
   "outputs": [
    {
     "data": {
      "text/plain": [
       "600    tt0468569\n",
       "Name: imdb_id, dtype: object"
      ]
     },
     "execution_count": 23,
     "metadata": {},
     "output_type": "execute_result"
    }
   ],
   "source": [
    "data.query('release_year==2008 & profit==816921825').imdb_id"
   ]
  },
  {
   "cell_type": "code",
   "execution_count": 24,
   "metadata": {},
   "outputs": [],
   "source": [
    "answer_ls.append(4)"
   ]
  },
  {
   "cell_type": "markdown",
   "metadata": {},
   "source": [
    "# 10. Самый убыточный фильм за период с 2012 по 2014 (включительно)?\n",
    "Варианты ответов:\n",
    "1. Winter's Tale\ttt1837709\n",
    "2. Stolen\ttt1656186\n",
    "3. Broken City\ttt1235522\n",
    "4. Upside Down\ttt1374992\n",
    "5. The Lone Ranger\ttt1210819\n"
   ]
  },
  {
   "cell_type": "code",
   "execution_count": 25,
   "metadata": {},
   "outputs": [
    {
     "data": {
      "text/plain": [
       "1246    tt1210819\n",
       "Name: imdb_id, dtype: object"
      ]
     },
     "execution_count": 25,
     "metadata": {},
     "output_type": "execute_result"
    }
   ],
   "source": [
    "q10 = data.loc[data['release_year'].isin(['2012','2013','2014'])]\n",
    "q10[(q10['profit'] == q10.profit.min())].imdb_id"
   ]
  },
  {
   "cell_type": "code",
   "execution_count": 26,
   "metadata": {},
   "outputs": [],
   "source": [
    "answer_ls.append(5)"
   ]
  },
  {
   "cell_type": "markdown",
   "metadata": {},
   "source": [
    "# 11. Какого жанра фильмов больше всего?\n",
    "Варианты ответов:\n",
    "1. Action\n",
    "2. Adventure\n",
    "3. Drama\n",
    "4. Comedy\n",
    "5. Thriller"
   ]
  },
  {
   "cell_type": "code",
   "execution_count": 27,
   "metadata": {},
   "outputs": [
    {
     "data": {
      "text/plain": [
       "[583, 416, 782, 683, 597]"
      ]
     },
     "execution_count": 27,
     "metadata": {},
     "output_type": "execute_result"
    }
   ],
   "source": [
    "gnr = []\n",
    "gnr.append(data[data.genres.str.contains(\"Action\", na=False)].genres.count())\n",
    "gnr.append(data[data.genres.str.contains(\"Adventure\", na=False)].genres.count())\n",
    "gnr.append(data[data.genres.str.contains(\"Drama\", na=False)].genres.count())\n",
    "gnr.append(data[data.genres.str.contains(\"Comedy\", na=False)].genres.count())\n",
    "gnr.append(data[data.genres.str.contains(\"Thriller\", na=False)].genres.count())\n",
    "gnr"
   ]
  },
  {
   "cell_type": "code",
   "execution_count": 28,
   "metadata": {},
   "outputs": [],
   "source": [
    "answer_ls.append(3)"
   ]
  },
  {
   "cell_type": "markdown",
   "metadata": {},
   "source": [
    "# 12. Какого жанра среди прибыльных фильмов больше всего?\n",
    "Варианты ответов:\n",
    "1. Action\n",
    "2. Adventure\n",
    "3. Drama\n",
    "4. Comedy\n",
    "5. Thriller"
   ]
  },
  {
   "cell_type": "code",
   "execution_count": 29,
   "metadata": {},
   "outputs": [
    {
     "data": {
      "text/plain": [
       "[444, 337, 560, 551, 446]"
      ]
     },
     "execution_count": 29,
     "metadata": {},
     "output_type": "execute_result"
    }
   ],
   "source": [
    "data_profit = data.query('profit>0')\n",
    "gnr_profit = []\n",
    "gnr_profit.append(data_profit[data_profit.genres.str.contains(\"Action\", na=False)].genres.count())\n",
    "gnr_profit.append(data_profit[data_profit.genres.str.contains(\"Adventure\", na=False)].genres.count())\n",
    "gnr_profit.append(data_profit[data_profit.genres.str.contains(\"Drama\", na=False)].genres.count())\n",
    "gnr_profit.append(data_profit[data_profit.genres.str.contains(\"Comedy\", na=False)].genres.count())\n",
    "gnr_profit.append(data_profit[data_profit.genres.str.contains(\"Thriller\", na=False)].genres.count())\n",
    "gnr_profit"
   ]
  },
  {
   "cell_type": "code",
   "execution_count": 30,
   "metadata": {},
   "outputs": [],
   "source": [
    "answer_ls.append(3)"
   ]
  },
  {
   "cell_type": "markdown",
   "metadata": {},
   "source": [
    "# 13. Кто из режиссеров снял больше всего фильмов?\n",
    "Варианты ответов:\n",
    "1. Steven Spielberg\n",
    "2. Ridley Scott \n",
    "3. Steven Soderbergh\n",
    "4. Christopher Nolan\n",
    "5. Clint Eastwood"
   ]
  },
  {
   "cell_type": "code",
   "execution_count": 31,
   "metadata": {},
   "outputs": [
    {
     "data": {
      "text/plain": [
       "109"
      ]
     },
     "execution_count": 31,
     "metadata": {},
     "output_type": "execute_result"
    }
   ],
   "source": [
    "#we have more then one directors for some films, aren't we?\n",
    "data[data.director.str.contains(\"\\|\", na=False, regex=True)].director.nunique()"
   ]
  },
  {
   "cell_type": "code",
   "execution_count": 32,
   "metadata": {},
   "outputs": [
    {
     "data": {
      "text/plain": [
       "[10, 12, 13, 8, 12]"
      ]
     },
     "execution_count": 32,
     "metadata": {},
     "output_type": "execute_result"
    }
   ],
   "source": [
    "dctr = []\n",
    "dctr.append(data[data.director.str.contains(\"Steven Spielberg\", na=False)].original_title.count())\n",
    "dctr.append(data[data.director.str.contains(\"Ridley Scott\", na=False)].original_title.count())\n",
    "dctr.append(data[data.director.str.contains(\"Steven Soderbergh\", na=False)].original_title.count())\n",
    "dctr.append(data[data.director.str.contains(\"Christopher Nolan\", na=False)].original_title.count())\n",
    "dctr.append(data[data.director.str.contains(\"Clint Eastwood\", na=False)].original_title.count())\n",
    "dctr"
   ]
  },
  {
   "cell_type": "code",
   "execution_count": 33,
   "metadata": {},
   "outputs": [],
   "source": [
    "answer_ls.append(3)"
   ]
  },
  {
   "cell_type": "markdown",
   "metadata": {},
   "source": [
    "# 14. Кто из режиссеров снял больше всего Прибыльных фильмов?\n",
    "Варианты ответов:\n",
    "1. Steven Spielberg\n",
    "2. Ridley Scott \n",
    "3. Steven Soderbergh\n",
    "4. Christopher Nolan\n",
    "5. Clint Eastwood"
   ]
  },
  {
   "cell_type": "code",
   "execution_count": 34,
   "metadata": {},
   "outputs": [
    {
     "data": {
      "text/plain": [
       "[10, 12, 10, 8, 10]"
      ]
     },
     "execution_count": 34,
     "metadata": {},
     "output_type": "execute_result"
    }
   ],
   "source": [
    "dctr_profit = []\n",
    "dctr_profit.append(data_profit[data_profit.director.str.contains(\"Steven Spielberg\", na=False)].original_title.count())\n",
    "dctr_profit.append(data_profit[data_profit.director.str.contains(\"Ridley Scott\", na=False)].original_title.count())\n",
    "dctr_profit.append(data_profit[data_profit.director.str.contains(\"Steven Soderbergh\", na=False)].original_title.count())\n",
    "dctr_profit.append(data_profit[data_profit.director.str.contains(\"Christopher Nolan\", na=False)].original_title.count())\n",
    "dctr_profit.append(data_profit[data_profit.director.str.contains(\"Clint Eastwood\", na=False)].original_title.count())\n",
    "dctr_profit"
   ]
  },
  {
   "cell_type": "code",
   "execution_count": 35,
   "metadata": {},
   "outputs": [],
   "source": [
    "answer_ls.append(2)"
   ]
  },
  {
   "cell_type": "markdown",
   "metadata": {},
   "source": [
    "# 15. Кто из режиссеров принес больше всего прибыли?\n",
    "Варианты ответов:\n",
    "1. Steven Spielberg\n",
    "2. James Cameron\n",
    "3. Christopher Nolan\n",
    "4. David Yates\n",
    "5. Peter Jackson\n"
   ]
  },
  {
   "cell_type": "code",
   "execution_count": 36,
   "metadata": {},
   "outputs": [
    {
     "data": {
      "text/plain": [
       "[2449, 2548, 3162, 3379, 5202]"
      ]
     },
     "execution_count": 36,
     "metadata": {},
     "output_type": "execute_result"
    }
   ],
   "source": [
    "profit_max = []\n",
    "profit_max.append(data[data.director.str.contains(\"Steven Spielberg\", na=False)].profit.sum()//1000000)\n",
    "profit_max.append(data[data.director.str.contains(\"James Cameron\", na=False)].profit.sum()//1000000)\n",
    "profit_max.append(data[data.director.str.contains(\"Christopher Nolan\", na=False)].profit.sum()//1000000)\n",
    "profit_max.append(data[data.director.str.contains(\"David Yates\", na=False)].profit.sum()//1000000)\n",
    "profit_max.append(data[data.director.str.contains(\"Peter Jackson\", na=False)].profit.sum()//1000000)\n",
    "profit_max"
   ]
  },
  {
   "cell_type": "code",
   "execution_count": 37,
   "metadata": {},
   "outputs": [],
   "source": [
    "\n",
    "answer_ls.append(5)"
   ]
  },
  {
   "cell_type": "markdown",
   "metadata": {},
   "source": [
    "# 16. Какой актер принес больше всего прибыли?\n",
    "Варианты ответов:\n",
    "1. Emma Watson\n",
    "2. Johnny Depp\n",
    "3. Michelle Rodriguez\n",
    "4. Orlando Bloom\n",
    "5. Rupert Grint"
   ]
  },
  {
   "cell_type": "code",
   "execution_count": 38,
   "metadata": {},
   "outputs": [
    {
     "data": {
      "text/plain": [
       "[6666, 4776, 4608, 5148, 6408]"
      ]
     },
     "execution_count": 38,
     "metadata": {},
     "output_type": "execute_result"
    }
   ],
   "source": [
    "cast_maxprofit = []\n",
    "cast_maxprofit.append(data[data.cast.str.contains(\"Emma Watson\", na=False)].profit.sum()//1000000)\n",
    "cast_maxprofit.append(data[data.cast.str.contains(\"Johnny Depp\", na=False)].profit.sum()//1000000)\n",
    "cast_maxprofit.append(data[data.cast.str.contains(\"Michelle Rodriguez\", na=False)].profit.sum()//1000000)\n",
    "cast_maxprofit.append(data[data.cast.str.contains(\"Orlando Bloom\", na=False)].profit.sum()//1000000)\n",
    "cast_maxprofit.append(data[data.cast.str.contains(\"Rupert Grint\", na=False)].profit.sum()//1000000)\n",
    "cast_maxprofit"
   ]
  },
  {
   "cell_type": "code",
   "execution_count": 39,
   "metadata": {},
   "outputs": [],
   "source": [
    "answer_ls.append(1)"
   ]
  },
  {
   "cell_type": "markdown",
   "metadata": {},
   "source": [
    "# 17. Какой актер принес меньше всего прибыли в 2012 году?\n",
    "Варианты ответов:\n",
    "1. Nicolas Cage\n",
    "2. Danny Huston\n",
    "3. Kirsten Dunst\n",
    "4. Jim Sturgess\n",
    "5. Sami Gayle"
   ]
  },
  {
   "cell_type": "code",
   "execution_count": 40,
   "metadata": {},
   "outputs": [
    {
     "data": {
      "text/plain": [
       "[-33, -33, -69, -24, -33]"
      ]
     },
     "execution_count": 40,
     "metadata": {},
     "output_type": "execute_result"
    }
   ],
   "source": [
    "data_2012 = data.query('release_year==2012')\n",
    "cast_2012profit = []\n",
    "cast_2012profit.append(data_2012[data_2012.cast.str.contains(\"Nicolas Cage\", na=False)].profit.sum()//1000000)\n",
    "cast_2012profit.append(data_2012[data_2012.cast.str.contains(\"Danny Huston\", na=False)].profit.sum()//1000000)\n",
    "cast_2012profit.append(data_2012[data_2012.cast.str.contains(\"Kirsten Dunst\", na=False)].profit.sum()//1000000)\n",
    "cast_2012profit.append(data_2012[data_2012.cast.str.contains(\"Jim Sturgess\", na=False)].profit.sum()//1000000)\n",
    "cast_2012profit.append(data_2012[data_2012.cast.str.contains(\"Sami Gayle\", na=False)].profit.sum()//1000000)\n",
    "cast_2012profit"
   ]
  },
  {
   "cell_type": "code",
   "execution_count": 41,
   "metadata": {},
   "outputs": [],
   "source": [
    "answer_ls.append(3)"
   ]
  },
  {
   "cell_type": "markdown",
   "metadata": {},
   "source": [
    "# 18. Какой актер снялся в большем количестве высокобюджетных фильмов? (в фильмах где бюджет выше среднего по данной выборке)\n",
    "Варианты ответов:\n",
    "1. Tom Cruise\n",
    "2. Mark Wahlberg \n",
    "3. Matt Damon\n",
    "4. Angelina Jolie\n",
    "5. Adam Sandler"
   ]
  },
  {
   "cell_type": "markdown",
   "metadata": {},
   "source": [
    "### решение оказалось неверным так как не совсем понятно какая выборка требуется в задании  - по всему датафрейму или по пяти актерам в задании (сперва выборка из 5 актеров, потом средний бюджет)\n",
    "actors_q18 = ['Tom Cruise','Mark Wahlberg','Matt Damon','Angelina Jolie','Adam Sandler']\n",
    "\n",
    "q18 = data[data.cast.str.contains('|'.join(actors_q18))]\n",
    "\n",
    "q18['mean_budget'] = q18.budget.mean()\n",
    "\n",
    "q18_2umb = q18.query(\"budget > mean_budget\")\n",
    "\n",
    "actors_list = list([actor for actors in [s.split('|') for s in q18_2umb.cast] for actor in actors])\n",
    "\n",
    "cc = Counter(actors_list)\n",
    "\n",
    "cc.most_common(5)\n"
   ]
  },
  {
   "cell_type": "code",
   "execution_count": 42,
   "metadata": {},
   "outputs": [
    {
     "data": {
      "text/plain": [
       "[('Matt Damon', 18),\n",
       " ('Adam Sandler', 17),\n",
       " ('Angelina Jolie', 16),\n",
       " ('Tom Cruise', 15),\n",
       " ('Samuel L. Jackson', 15)]"
      ]
     },
     "execution_count": 42,
     "metadata": {},
     "output_type": "execute_result"
    }
   ],
   "source": [
    "data['mean_budget'] = data.budget.mean()\n",
    "q18_umb = data.query(\"budget > mean_budget\")\n",
    "actors_lst = list([actor for actors in [s.split('|') for s in q18_umb.cast] for actor in actors])\n",
    "c = Counter(actors_lst)\n",
    "c.most_common(5)"
   ]
  },
  {
   "cell_type": "code",
   "execution_count": 43,
   "metadata": {},
   "outputs": [],
   "source": [
    "answer_ls.append(3)"
   ]
  },
  {
   "cell_type": "markdown",
   "metadata": {},
   "source": [
    "# 19. В фильмах какого жанра больше всего снимался Nicolas Cage?  \n",
    "Варианты ответа:\n",
    "1. Drama\n",
    "2. Action\n",
    "3. Thriller\n",
    "4. Adventure\n",
    "5. Crime"
   ]
  },
  {
   "cell_type": "code",
   "execution_count": 44,
   "metadata": {},
   "outputs": [
    {
     "data": {
      "text/plain": [
       "[('Action', 17),\n",
       " ('Thriller', 15),\n",
       " ('Drama', 12),\n",
       " ('Crime', 10),\n",
       " ('Fantasy', 8)]"
      ]
     },
     "execution_count": 44,
     "metadata": {},
     "output_type": "execute_result"
    }
   ],
   "source": [
    "nc_data = data[data.cast.str.contains(\"Nicolas Cage\", na=False)]\n",
    "gnr_lst = list([genre for genres in [s.split('|') for s in nc_data.genres] for genre in genres])\n",
    "g = Counter(gnr_lst)\n",
    "g.most_common(5)"
   ]
  },
  {
   "cell_type": "code",
   "execution_count": 45,
   "metadata": {},
   "outputs": [],
   "source": [
    "answer_ls.append(2)"
   ]
  },
  {
   "cell_type": "markdown",
   "metadata": {},
   "source": [
    "# 20. Какая студия сняла больше всего фильмов?\n",
    "Варианты ответа:\n",
    "1. Universal Pictures (Universal)\n",
    "2. Paramount Pictures\n",
    "3. Columbia Pictures\n",
    "4. Warner Bros\n",
    "5. Twentieth Century Fox Film Corporation"
   ]
  },
  {
   "cell_type": "code",
   "execution_count": 46,
   "metadata": {},
   "outputs": [
    {
     "data": {
      "text/plain": [
       "[185, 134, 172, 183, 109]"
      ]
     },
     "execution_count": 46,
     "metadata": {},
     "output_type": "execute_result"
    }
   ],
   "source": [
    "films = []\n",
    "films.append(data[data.production_companies.str.contains(\"Universal\", na=False)].original_title.count())\n",
    "films.append(data[data.production_companies.str.contains(\"Paramount\", na=False)].original_title.count())\n",
    "films.append(data[data.production_companies.str.contains(\"Columbia\", na=False)].original_title.count())\n",
    "films.append(data[data.production_companies.str.contains(\"Warner Bros\", na=False)].original_title.count())\n",
    "films.append(data[data.production_companies.str.contains(\"Twentieth Century Fox Film Corporation\", na=False)].original_title.count())\n",
    "films"
   ]
  },
  {
   "cell_type": "code",
   "execution_count": 47,
   "metadata": {},
   "outputs": [],
   "source": [
    "answer_ls.append(1)"
   ]
  },
  {
   "cell_type": "markdown",
   "metadata": {},
   "source": [
    "# 21. Какая студия сняла больше всего фильмов в 2015 году?\n",
    "Варианты ответа:\n",
    "1. Universal Pictures\n",
    "2. Paramount Pictures\n",
    "3. Columbia Pictures\n",
    "4. Warner Bros\n",
    "5. Twentieth Century Fox Film Corporation"
   ]
  },
  {
   "cell_type": "code",
   "execution_count": 52,
   "metadata": {},
   "outputs": [
    {
     "data": {
      "text/plain": [
       "Warner Bros.                              12\n",
       "Universal Pictures                        11\n",
       "Twentieth Century Fox Film Corporation     8\n",
       "Columbia Pictures                          7\n",
       "Paramount Pictures                         7\n",
       "dtype: int64"
      ]
     },
     "execution_count": 52,
     "metadata": {},
     "output_type": "execute_result"
    }
   ],
   "source": [
    "data_films15 = data.query(\"release_year == 2015\")\n",
    "y15_films = set(data_films15.production_companies.str.split('|').sum())\n",
    "fy15 = pd.Series({x: data_films15[data_films15.production_companies.str.contains(x)].production_companies.count() \n",
    "for x in y15_films}).sort_values(ascending = False)\n",
    "fy15.head()"
   ]
  },
  {
   "cell_type": "code",
   "execution_count": 53,
   "metadata": {},
   "outputs": [],
   "source": [
    "answer_ls.append(4)"
   ]
  },
  {
   "cell_type": "markdown",
   "metadata": {},
   "source": [
    "# 22. Какая студия заработала больше всего денег в жанре комедий за все время?\n",
    "Варианты ответа:\n",
    "1. Warner Bros\n",
    "2. Universal Pictures (Universal)\n",
    "3. Columbia Pictures\n",
    "4. Paramount Pictures\n",
    "5. Walt Disney"
   ]
  },
  {
   "cell_type": "code",
   "execution_count": 54,
   "metadata": {},
   "outputs": [
    {
     "data": {
      "text/plain": [
       "[4370, 9075, 7161, 3055, 7975]"
      ]
     },
     "execution_count": 54,
     "metadata": {},
     "output_type": "execute_result"
    }
   ],
   "source": [
    "data_comedy = data[data.genres.str.contains('Comedy')]\n",
    "comedies = []\n",
    "comedies.append(data_comedy[data_comedy.production_companies.str.contains(\"Warner Bros\", na=False)].profit.sum()//1000000)\n",
    "comedies.append(data_comedy[data_comedy.production_companies.str.contains(\"Universal \", na=False)].profit.sum()//1000000)\n",
    "comedies.append(data_comedy[data_comedy.production_companies.str.contains(\"Columbia Pictures\", na=False)].profit.sum()//1000000)\n",
    "comedies.append(data_comedy[data_comedy.production_companies.str.contains(\"Paramount Pictures\", na=False)].profit.sum()//1000000)\n",
    "comedies.append(data_comedy[data_comedy.production_companies.str.contains(\"Walt Disney\", na=False)].profit.sum()//1000000)\n",
    "comedies"
   ]
  },
  {
   "cell_type": "code",
   "execution_count": 55,
   "metadata": {},
   "outputs": [],
   "source": [
    "answer_ls.append(2)"
   ]
  },
  {
   "cell_type": "markdown",
   "metadata": {},
   "source": [
    "# 23. Какая студия заработала больше всего денег в 2012 году?\n",
    "Варианты ответа:\n",
    "1. Universal Pictures (Universal)\n",
    "2. Warner Bros\n",
    "3. Columbia Pictures\n",
    "4. Paramount Pictures\n",
    "5. Lucasfilm"
   ]
  },
  {
   "cell_type": "code",
   "execution_count": 56,
   "metadata": {},
   "outputs": [
    {
     "data": {
      "text/plain": [
       "[1981, 1258, 2501, 410, -8]"
      ]
     },
     "execution_count": 56,
     "metadata": {},
     "output_type": "execute_result"
    }
   ],
   "source": [
    "data_2012 = data.query('release_year==2012')\n",
    "prod_12profit = []\n",
    "prod_12profit.append(data_2012[data_2012.production_companies.str.contains(\"Universal\", na=False)].profit.sum()//1000000)\n",
    "prod_12profit.append(data_2012[data_2012.production_companies.str.contains(\"Warner Bros\", na=False)].profit.sum()//1000000)\n",
    "prod_12profit.append(data_2012[data_2012.production_companies.str.contains(\"Columbia Pictures\", na=False)].profit.sum()//1000000)\n",
    "prod_12profit.append(data_2012[data_2012.production_companies.str.contains(\"Paramount Pictures\", na=False)].profit.sum()//1000000)\n",
    "prod_12profit.append(data_2012[data_2012.production_companies.str.contains(\"Lucasfilm\", na=False)].profit.sum()//1000000)\n",
    "prod_12profit"
   ]
  },
  {
   "cell_type": "code",
   "execution_count": 57,
   "metadata": {},
   "outputs": [],
   "source": [
    "answer_ls.append(3)"
   ]
  },
  {
   "cell_type": "markdown",
   "metadata": {},
   "source": [
    "# 24. Самый убыточный фильм от Paramount Pictures\n",
    "Варианты ответа:\n",
    "\n",
    "1. K-19: The Widowmaker tt0267626\n",
    "2. Next tt0435705\n",
    "3. Twisted tt0315297\n",
    "4. The Love Guru tt0811138\n",
    "5. The Fighter tt0964517"
   ]
  },
  {
   "cell_type": "code",
   "execution_count": 58,
   "metadata": {},
   "outputs": [
    {
     "data": {
      "text/plain": [
       "imdb_id\n",
       "tt0267626   -64831034\n",
       "tt0435705   -51788987\n",
       "tt0315297   -24805000\n",
       "tt0811138   -20180936\n",
       "tt0964517   -15809131\n",
       "Name: profit, dtype: int64"
      ]
     },
     "execution_count": 58,
     "metadata": {},
     "output_type": "execute_result"
    }
   ],
   "source": [
    "parapic = data[data.production_companies.str.contains(\"Paramount Pictures\", na=False)]\n",
    "parapic_q24 = parapic.loc[parapic['imdb_id'].isin\n",
    "(['tt0267626','tt0435705','tt0315297','tt0811138','tt0964517'])].pivot_table(values=['profit'],\n",
    "index=['imdb_id'])\n",
    "parapic_q24.profit.sort_values(ascending=True)"
   ]
  },
  {
   "cell_type": "code",
   "execution_count": 59,
   "metadata": {},
   "outputs": [],
   "source": [
    "answer_ls.append(1)"
   ]
  },
  {
   "cell_type": "markdown",
   "metadata": {},
   "source": [
    "# 25. Какой Самый прибыльный год (заработали больше всего)?\n",
    "Варианты ответа:\n",
    "1. 2014\n",
    "2. 2008\n",
    "3. 2012\n",
    "4. 2002\n",
    "5. 2015"
   ]
  },
  {
   "cell_type": "code",
   "execution_count": 60,
   "metadata": {},
   "outputs": [
    {
     "data": {
      "text/plain": [
       "release_year\n",
       "2015    18668572378\n",
       "Name: profit, dtype: int64"
      ]
     },
     "execution_count": 60,
     "metadata": {},
     "output_type": "execute_result"
    }
   ],
   "source": [
    "best_profit = pd.pivot_table(data, values='profit', index='release_year', aggfunc='sum')\n",
    "best_profit.profit.sort_values(ascending=False).head(1)"
   ]
  },
  {
   "cell_type": "code",
   "execution_count": 61,
   "metadata": {},
   "outputs": [],
   "source": [
    "answer_ls.append(5)"
   ]
  },
  {
   "cell_type": "markdown",
   "metadata": {},
   "source": [
    "# 26. Какой Самый прибыльный год для студии Warner Bros?\n",
    "Варианты ответа:\n",
    "1. 2014\n",
    "2. 2008\n",
    "3. 2012\n",
    "4. 2010\n",
    "5. 2015"
   ]
  },
  {
   "cell_type": "code",
   "execution_count": 62,
   "metadata": {},
   "outputs": [
    {
     "data": {
      "text/plain": [
       "release_year\n",
       "2014    2295464519\n",
       "Name: profit, dtype: int64"
      ]
     },
     "execution_count": 62,
     "metadata": {},
     "output_type": "execute_result"
    }
   ],
   "source": [
    "wb = data[data.production_companies.str.contains(\"Warner Bros\", na=False)]\n",
    "bp_wb = pd.pivot_table(wb, values='profit', index='release_year', aggfunc='sum')\n",
    "bp_wb.profit.sort_values(ascending=False).head(1)"
   ]
  },
  {
   "cell_type": "code",
   "execution_count": 63,
   "metadata": {},
   "outputs": [],
   "source": [
    "answer_ls.append(1)"
   ]
  },
  {
   "cell_type": "markdown",
   "metadata": {},
   "source": [
    "# 27. В каком месяце за все годы суммарно вышло больше всего фильмов?\n",
    "Варианты ответа:\n",
    "1. Январь\n",
    "2. Июнь\n",
    "3. Декабрь\n",
    "4. Сентябрь\n",
    "5. Май"
   ]
  },
  {
   "cell_type": "code",
   "execution_count": 64,
   "metadata": {},
   "outputs": [
    {
     "data": {
      "text/plain": [
       "month\n",
       "9    227\n",
       "Name: original_title, dtype: int64"
      ]
     },
     "execution_count": 64,
     "metadata": {},
     "output_type": "execute_result"
    }
   ],
   "source": [
    "data['date'] = pd.to_datetime(data.release_date, format='%m/%d/%Y')\n",
    "data['month'] = data['date'].dt.month\n",
    "data.pivot_table(\n",
    "values='original_title',\n",
    "aggfunc='count',\n",
    "index='month').original_title.sort_values(ascending=False).head(1)"
   ]
  },
  {
   "cell_type": "code",
   "execution_count": 65,
   "metadata": {},
   "outputs": [],
   "source": [
    "answer_ls.append(4)"
   ]
  },
  {
   "cell_type": "markdown",
   "metadata": {},
   "source": [
    "# 28. Сколько суммарно вышло фильмов летом? (за июнь, июль, август)\n",
    "Варианты ответа:\n",
    "1. 345\n",
    "2. 450\n",
    "3. 478\n",
    "4. 523\n",
    "5. 381"
   ]
  },
  {
   "cell_type": "code",
   "execution_count": 66,
   "metadata": {},
   "outputs": [
    {
     "data": {
      "text/plain": [
       "450"
      ]
     },
     "execution_count": 66,
     "metadata": {},
     "output_type": "execute_result"
    }
   ],
   "source": [
    "date_summer = data.query('month in [6, 7, 8]')\n",
    "date_summer.original_title.count()"
   ]
  },
  {
   "cell_type": "code",
   "execution_count": 67,
   "metadata": {},
   "outputs": [],
   "source": [
    "answer_ls.append(2)"
   ]
  },
  {
   "cell_type": "markdown",
   "metadata": {},
   "source": [
    "# 29. Какой режисер выпускает (суммарно по годам) больше всего фильмов зимой?\n",
    "Варианты ответов:\n",
    "1. Steven Soderbergh\n",
    "2. Christopher Nolan\n",
    "3. Clint Eastwood\n",
    "4. Ridley Scott\n",
    "5. Peter Jackson"
   ]
  },
  {
   "cell_type": "code",
   "execution_count": 68,
   "metadata": {},
   "outputs": [
    {
     "data": {
      "text/plain": [
       "[3, 0, 6, 3, 7]"
      ]
     },
     "execution_count": 68,
     "metadata": {},
     "output_type": "execute_result"
    }
   ],
   "source": [
    "data_winter = data.query('month in [1, 2, 12]')\n",
    "wntr_films = []\n",
    "wntr_films.append(data_winter[data_winter.director.str.contains(\"Steven Spielberg\", na=False)].original_title.count())\n",
    "wntr_films.append(data_winter[data_winter.director.str.contains(\"Christopher Nolan\", na=False)].original_title.count())\n",
    "wntr_films.append(data_winter[data_winter.director.str.contains(\"Clint Eastwood\", na=False)].original_title.count())\n",
    "wntr_films.append(data_winter[data_winter.director.str.contains(\"Ridley Scott\", na=False)].original_title.count())\n",
    "wntr_films.append(data_winter[data_winter.director.str.contains(\"Peter Jackson\", na=False)].original_title.count())\n",
    "wntr_films"
   ]
  },
  {
   "cell_type": "code",
   "execution_count": 69,
   "metadata": {},
   "outputs": [],
   "source": [
    "answer_ls.append(5)"
   ]
  },
  {
   "cell_type": "markdown",
   "metadata": {},
   "source": [
    "# 30. Какой месяц чаще всего по годам самый прибыльный?\n",
    "Варианты ответа:\n",
    "1. Январь\n",
    "2. Июнь\n",
    "3. Декабрь\n",
    "4. Сентябрь\n",
    "5. Май"
   ]
  },
  {
   "cell_type": "code",
   "execution_count": 70,
   "metadata": {},
   "outputs": [
    {
     "data": {
      "text/plain": [
       "6     7\n",
       "12    4\n",
       "5     4\n",
       "7     1\n",
       "dtype: int64"
      ]
     },
     "execution_count": 70,
     "metadata": {},
     "output_type": "execute_result"
    }
   ],
   "source": [
    "data.pivot_table(\n",
    "values='profit',\n",
    "aggfunc='sum',\n",
    "columns='month',\n",
    "index='release_year').idxmax(axis = 1).value_counts()"
   ]
  },
  {
   "cell_type": "code",
   "execution_count": 71,
   "metadata": {},
   "outputs": [],
   "source": [
    "answer_ls.append(2)"
   ]
  },
  {
   "cell_type": "markdown",
   "metadata": {},
   "source": [
    "# 31. Названия фильмов какой студии в среднем самые длинные по количеству символов?\n",
    "Варианты ответа:\n",
    "1. Universal Pictures (Universal)\n",
    "2. Warner Bros\n",
    "3. Jim Henson Company, The\n",
    "4. Paramount Pictures\n",
    "5. Four By Two Productions"
   ]
  },
  {
   "cell_type": "code",
   "execution_count": 72,
   "metadata": {},
   "outputs": [
    {
     "data": {
      "text/plain": [
       "[14.762162162162163, 15.251366120218579, 59.0, 17.0327868852459, 83.0]"
      ]
     },
     "execution_count": 72,
     "metadata": {},
     "output_type": "execute_result"
    }
   ],
   "source": [
    "data['simbol'] = data.original_title.str.len()\n",
    "max_simb = []\n",
    "max_simb.append(data[data.production_companies.str.contains(\"Universal\", na=False)].simbol.mean())\n",
    "max_simb.append(data[data.production_companies.str.contains(\"Warner Bros\", na=False)].simbol.mean())\n",
    "max_simb.append(data[data.production_companies.str.contains(\"Jim Henson Company, The\", na=False)].simbol.mean())\n",
    "max_simb.append(data[data.production_companies.str.contains(\"Paramount Pictures\", na=False)].simbol.mean())\n",
    "max_simb.append(data[data.production_companies.str.contains(\"Four By Two Productions\", na=False)].simbol.mean())\n",
    "max_simb"
   ]
  },
  {
   "cell_type": "code",
   "execution_count": 73,
   "metadata": {},
   "outputs": [],
   "source": [
    "answer_ls.append(5)"
   ]
  },
  {
   "cell_type": "markdown",
   "metadata": {},
   "source": [
    "# 32. Названия фильмов какой студии в среднем самые длинные по количеству слов?\n",
    "Варианты ответа:\n",
    "1. Universal Pictures (Universal)\n",
    "2. Warner Bros\n",
    "3. Jim Henson Company, The\n",
    "4. Paramount Pictures\n",
    "5. Four By Two Productions"
   ]
  },
  {
   "cell_type": "code",
   "execution_count": 74,
   "metadata": {},
   "outputs": [
    {
     "data": {
      "text/plain": [
       "[2.627027027027027, 2.73224043715847, 10.0, 2.8688524590163933, 12.0]"
      ]
     },
     "execution_count": 74,
     "metadata": {},
     "output_type": "execute_result"
    }
   ],
   "source": [
    "data['title_words'] = data['original_title'].str.split().str.len()\n",
    "max_words = []\n",
    "max_words.append(data[data.production_companies.str.contains(\"Universal\", na=False)].title_words.mean())\n",
    "max_words.append(data[data.production_companies.str.contains(\"Warner Bros\", na=False)].title_words.mean())\n",
    "max_words.append(data[data.production_companies.str.contains(\"Jim Henson Company, The\", na=False)].title_words.mean())\n",
    "max_words.append(data[data.production_companies.str.contains(\"Paramount Pictures\", na=False)].title_words.mean())\n",
    "max_words.append(data[data.production_companies.str.contains(\"Four By Two Productions\", na=False)].title_words.mean())\n",
    "max_words"
   ]
  },
  {
   "cell_type": "code",
   "execution_count": 75,
   "metadata": {},
   "outputs": [],
   "source": [
    "answer_ls.append(5)"
   ]
  },
  {
   "cell_type": "markdown",
   "metadata": {},
   "source": [
    "# 33. Сколько разных слов используется в названиях фильмов?(без учета регистра)\n",
    "Варианты ответа:\n",
    "1. 6540\n",
    "2. 1002\n",
    "3. 2461\n",
    "4. 28304\n",
    "5. 3432"
   ]
  },
  {
   "cell_type": "code",
   "execution_count": 76,
   "metadata": {},
   "outputs": [
    {
     "data": {
      "text/plain": [
       "2461"
      ]
     },
     "execution_count": 76,
     "metadata": {},
     "output_type": "execute_result"
    }
   ],
   "source": [
    "data['original_title'] = data['original_title'].str.lower()\n",
    "words = set(data.original_title.str.split().sum())\n",
    "len(words)"
   ]
  },
  {
   "cell_type": "code",
   "execution_count": 77,
   "metadata": {},
   "outputs": [],
   "source": [
    "answer_ls.append(3)"
   ]
  },
  {
   "cell_type": "markdown",
   "metadata": {},
   "source": [
    "# 34. Какие фильмы входят в 1 процент лучших по рейтингу?\n",
    "Варианты ответа:\n",
    "1. Inside Out, Gone Girl, 12 Years a Slave\n",
    "2. BloodRayne, The Adventures of Rocky & Bullwinkle\n",
    "3. The Lord of the Rings: The Return of the King\n",
    "4. 300, Lucky Number Slevin"
   ]
  },
  {
   "cell_type": "code",
   "execution_count": 78,
   "metadata": {},
   "outputs": [
    {
     "data": {
      "text/html": [
       "<div>\n",
       "<style scoped>\n",
       "    .dataframe tbody tr th:only-of-type {\n",
       "        vertical-align: middle;\n",
       "    }\n",
       "\n",
       "    .dataframe tbody tr th {\n",
       "        vertical-align: top;\n",
       "    }\n",
       "\n",
       "    .dataframe thead th {\n",
       "        text-align: right;\n",
       "    }\n",
       "</style>\n",
       "<table border=\"1\" class=\"dataframe\">\n",
       "  <thead>\n",
       "    <tr style=\"text-align: right;\">\n",
       "      <th></th>\n",
       "      <th>imdb_id</th>\n",
       "      <th>popularity</th>\n",
       "      <th>budget</th>\n",
       "      <th>revenue</th>\n",
       "      <th>original_title</th>\n",
       "      <th>cast</th>\n",
       "      <th>director</th>\n",
       "      <th>tagline</th>\n",
       "      <th>overview</th>\n",
       "      <th>runtime</th>\n",
       "      <th>...</th>\n",
       "      <th>release_date</th>\n",
       "      <th>vote_count</th>\n",
       "      <th>vote_average</th>\n",
       "      <th>release_year</th>\n",
       "      <th>profit</th>\n",
       "      <th>mean_budget</th>\n",
       "      <th>date</th>\n",
       "      <th>month</th>\n",
       "      <th>simbol</th>\n",
       "      <th>title_words</th>\n",
       "    </tr>\n",
       "  </thead>\n",
       "  <tbody>\n",
       "    <tr>\n",
       "      <th>9</th>\n",
       "      <td>tt2096673</td>\n",
       "      <td>6.326804</td>\n",
       "      <td>175000000</td>\n",
       "      <td>853708609</td>\n",
       "      <td>inside out</td>\n",
       "      <td>Amy Poehler|Phyllis Smith|Richard Kind|Bill Ha...</td>\n",
       "      <td>Pete Docter</td>\n",
       "      <td>Meet the little voices inside your head.</td>\n",
       "      <td>Growing up can be a bumpy road, and it's no ex...</td>\n",
       "      <td>94</td>\n",
       "      <td>...</td>\n",
       "      <td>6/9/2015</td>\n",
       "      <td>3935</td>\n",
       "      <td>8.0</td>\n",
       "      <td>2015</td>\n",
       "      <td>678708609</td>\n",
       "      <td>5.450696e+07</td>\n",
       "      <td>2015-06-09</td>\n",
       "      <td>6</td>\n",
       "      <td>10</td>\n",
       "      <td>2</td>\n",
       "    </tr>\n",
       "    <tr>\n",
       "      <th>128</th>\n",
       "      <td>tt2267998</td>\n",
       "      <td>6.438727</td>\n",
       "      <td>61000000</td>\n",
       "      <td>369330363</td>\n",
       "      <td>gone girl</td>\n",
       "      <td>Ben Affleck|Rosamund Pike|Carrie Coon|Neil Pat...</td>\n",
       "      <td>David Fincher</td>\n",
       "      <td>You don't know what you've got 'til it's...</td>\n",
       "      <td>With his wife's disappearance having become th...</td>\n",
       "      <td>145</td>\n",
       "      <td>...</td>\n",
       "      <td>10/1/2014</td>\n",
       "      <td>3720</td>\n",
       "      <td>7.9</td>\n",
       "      <td>2014</td>\n",
       "      <td>308330363</td>\n",
       "      <td>5.450696e+07</td>\n",
       "      <td>2014-10-01</td>\n",
       "      <td>10</td>\n",
       "      <td>9</td>\n",
       "      <td>2</td>\n",
       "    </tr>\n",
       "    <tr>\n",
       "      <th>1082</th>\n",
       "      <td>tt0167260</td>\n",
       "      <td>7.122455</td>\n",
       "      <td>94000000</td>\n",
       "      <td>1118888979</td>\n",
       "      <td>the lord of the rings: the return of the king</td>\n",
       "      <td>Elijah Wood|Ian McKellen|Viggo Mortensen|Liv T...</td>\n",
       "      <td>Peter Jackson</td>\n",
       "      <td>The eye of the enemy is moving.</td>\n",
       "      <td>Aragorn is revealed as the heir to the ancient...</td>\n",
       "      <td>201</td>\n",
       "      <td>...</td>\n",
       "      <td>12/1/2003</td>\n",
       "      <td>5636</td>\n",
       "      <td>7.9</td>\n",
       "      <td>2003</td>\n",
       "      <td>1024888979</td>\n",
       "      <td>5.450696e+07</td>\n",
       "      <td>2003-12-01</td>\n",
       "      <td>12</td>\n",
       "      <td>45</td>\n",
       "      <td>10</td>\n",
       "    </tr>\n",
       "    <tr>\n",
       "      <th>1192</th>\n",
       "      <td>tt2024544</td>\n",
       "      <td>3.625529</td>\n",
       "      <td>20000000</td>\n",
       "      <td>187000000</td>\n",
       "      <td>12 years a slave</td>\n",
       "      <td>Chiwetel Ejiofor|Michael Fassbender|Lupita Nyo...</td>\n",
       "      <td>Steve McQueen</td>\n",
       "      <td>The extraordinary true story of Solomon Northup</td>\n",
       "      <td>In the pre-Civil War United States, Solomon No...</td>\n",
       "      <td>134</td>\n",
       "      <td>...</td>\n",
       "      <td>10/18/2013</td>\n",
       "      <td>2241</td>\n",
       "      <td>7.9</td>\n",
       "      <td>2013</td>\n",
       "      <td>167000000</td>\n",
       "      <td>5.450696e+07</td>\n",
       "      <td>2013-10-18</td>\n",
       "      <td>10</td>\n",
       "      <td>16</td>\n",
       "      <td>4</td>\n",
       "    </tr>\n",
       "  </tbody>\n",
       "</table>\n",
       "<p>4 rows × 22 columns</p>\n",
       "</div>"
      ],
      "text/plain": [
       "        imdb_id  popularity     budget     revenue  \\\n",
       "9     tt2096673    6.326804  175000000   853708609   \n",
       "128   tt2267998    6.438727   61000000   369330363   \n",
       "1082  tt0167260    7.122455   94000000  1118888979   \n",
       "1192  tt2024544    3.625529   20000000   187000000   \n",
       "\n",
       "                                     original_title  \\\n",
       "9                                        inside out   \n",
       "128                                       gone girl   \n",
       "1082  the lord of the rings: the return of the king   \n",
       "1192                               12 years a slave   \n",
       "\n",
       "                                                   cast       director  \\\n",
       "9     Amy Poehler|Phyllis Smith|Richard Kind|Bill Ha...    Pete Docter   \n",
       "128   Ben Affleck|Rosamund Pike|Carrie Coon|Neil Pat...  David Fincher   \n",
       "1082  Elijah Wood|Ian McKellen|Viggo Mortensen|Liv T...  Peter Jackson   \n",
       "1192  Chiwetel Ejiofor|Michael Fassbender|Lupita Nyo...  Steve McQueen   \n",
       "\n",
       "                                              tagline  \\\n",
       "9            Meet the little voices inside your head.   \n",
       "128       You don't know what you've got 'til it's...   \n",
       "1082                  The eye of the enemy is moving.   \n",
       "1192  The extraordinary true story of Solomon Northup   \n",
       "\n",
       "                                               overview  runtime  ...  \\\n",
       "9     Growing up can be a bumpy road, and it's no ex...       94  ...   \n",
       "128   With his wife's disappearance having become th...      145  ...   \n",
       "1082  Aragorn is revealed as the heir to the ancient...      201  ...   \n",
       "1192  In the pre-Civil War United States, Solomon No...      134  ...   \n",
       "\n",
       "     release_date vote_count vote_average  release_year      profit  \\\n",
       "9        6/9/2015       3935          8.0          2015   678708609   \n",
       "128     10/1/2014       3720          7.9          2014   308330363   \n",
       "1082    12/1/2003       5636          7.9          2003  1024888979   \n",
       "1192   10/18/2013       2241          7.9          2013   167000000   \n",
       "\n",
       "       mean_budget       date  month simbol  title_words  \n",
       "9     5.450696e+07 2015-06-09      6     10            2  \n",
       "128   5.450696e+07 2014-10-01     10      9            2  \n",
       "1082  5.450696e+07 2003-12-01     12     45           10  \n",
       "1192  5.450696e+07 2013-10-18     10     16            4  \n",
       "\n",
       "[4 rows x 22 columns]"
      ]
     },
     "execution_count": 78,
     "metadata": {},
     "output_type": "execute_result"
    }
   ],
   "source": [
    "rating = data.vote_average.quantile(0.99)\n",
    "one_percent = data[data.vote_average >= rating]\n",
    "q34_a = ['inside out', 'gone girl', '12 years a slave', 'bloodrayne', \n",
    "         'the adventures of rocky and bullwinkle', 'the lord of the rings: the return of the king', \n",
    "         'upside down', '300', 'lucky number slevin']\n",
    "one_percent[one_percent.original_title.str.contains('|'.join(q34_a))]"
   ]
  },
  {
   "cell_type": "code",
   "execution_count": 79,
   "metadata": {},
   "outputs": [],
   "source": [
    "answer_ls.append(1)"
   ]
  },
  {
   "cell_type": "markdown",
   "metadata": {},
   "source": [
    "# 35. Какие актеры чаще всего снимаются в одном фильме вместе\n",
    "Варианты ответа:\n",
    "1. Johnny Depp & Helena Bonham Carter\n",
    "2. Hugh Jackman & Ian McKellen\n",
    "3. Vin Diesel & Paul Walker\n",
    "4. Adam Sandler & Kevin James\n",
    "5. Daniel Radcliffe & Rupert Grint"
   ]
  },
  {
   "cell_type": "code",
   "execution_count": 80,
   "metadata": {},
   "outputs": [
    {
     "data": {
      "text/plain": [
       "[6, 5, 5, 5, 8]"
      ]
     },
     "execution_count": 80,
     "metadata": {},
     "output_type": "execute_result"
    }
   ],
   "source": [
    "tghr = []\n",
    "tghr.append(data[data['cast'].str.contains('Johnny Depp') & data['cast'].str.contains('Helena Bonham Carter')].original_title.count())\n",
    "tghr.append(data[data['cast'].str.contains('Hugh Jackman') & data['cast'].str.contains('Ian McKellen')].original_title.count())\n",
    "tghr.append(data[data['cast'].str.contains('Vin Diesel') & data['cast'].str.contains('Paul Walker')].original_title.count())\n",
    "tghr.append(data[data['cast'].str.contains('Adam Sandler') & data['cast'].str.contains('Kevin James')].original_title.count())\n",
    "tghr.append(data[data['cast'].str.contains('Daniel Radcliffe') & data['cast'].str.contains('Rupert Grint')].original_title.count())\n",
    "tghr"
   ]
  },
  {
   "cell_type": "code",
   "execution_count": 81,
   "metadata": {},
   "outputs": [],
   "source": [
    "answer_ls.append(5)"
   ]
  },
  {
   "cell_type": "markdown",
   "metadata": {},
   "source": [
    "# 36. У какого из режиссеров самый высокий процент фильмов со сборами выше бюджета?\n",
    "Варианты ответа:\n",
    "1. Quentin Tarantino\n",
    "2. Steven Soderbergh\n",
    "3. Robert Rodriguez\n",
    "4. Christopher Nolan\n",
    "5. Clint Eastwood"
   ]
  },
  {
   "cell_type": "code",
   "execution_count": 82,
   "metadata": {},
   "outputs": [
    {
     "data": {
      "text/plain": [
       "[85.71428571428571,\n",
       " 76.92307692307693,\n",
       " 72.72727272727273,\n",
       " 100.0,\n",
       " 83.33333333333334]"
      ]
     },
     "execution_count": 82,
     "metadata": {},
     "output_type": "execute_result"
    }
   ],
   "source": [
    "percetn_max = []\n",
    "percetn_max.append(data[(data.director.str.contains(\"Quentin Tarantino\"))&(data.profit > 0)].profit.count()/data[(data.director.str.contains(\"Quentin Tarantino\"))].profit.count()*100)\n",
    "percetn_max.append(data[(data.director.str.contains(\"Steven Soderbergh\"))&(data.profit > 0)].profit.count()/data[(data.director.str.contains(\"Steven Soderbergh\"))].profit.count()*100)\n",
    "percetn_max.append(data[(data.director.str.contains(\"Robert Rodriguez\"))&(data.profit > 0)].profit.count()/data[(data.director.str.contains(\"Robert Rodriguez\"))].profit.count()*100)\n",
    "percetn_max.append(data[(data.director.str.contains(\"Christopher Nolan\"))&(data.profit > 0)].profit.count()/data[(data.director.str.contains(\"Christopher Nolan\"))].profit.count()*100)\n",
    "percetn_max.append(data[(data.director.str.contains(\"Clint Eastwood\"))&(data.profit > 0)].profit.count()/data[(data.director.str.contains(\"Clint Eastwood\"))].profit.count()*100)\n",
    "percetn_max"
   ]
  },
  {
   "cell_type": "code",
   "execution_count": 83,
   "metadata": {},
   "outputs": [],
   "source": [
    "answer_ls.append(4)"
   ]
  },
  {
   "cell_type": "markdown",
   "metadata": {},
   "source": [
    "# Submission"
   ]
  },
  {
   "cell_type": "code",
   "execution_count": 84,
   "metadata": {},
   "outputs": [
    {
     "data": {
      "text/plain": [
       "36"
      ]
     },
     "execution_count": 84,
     "metadata": {},
     "output_type": "execute_result"
    }
   ],
   "source": [
    "len(answer_ls)"
   ]
  },
  {
   "cell_type": "code",
   "execution_count": 85,
   "metadata": {},
   "outputs": [
    {
     "data": {
      "text/html": [
       "<div>\n",
       "<style scoped>\n",
       "    .dataframe tbody tr th:only-of-type {\n",
       "        vertical-align: middle;\n",
       "    }\n",
       "\n",
       "    .dataframe tbody tr th {\n",
       "        vertical-align: top;\n",
       "    }\n",
       "\n",
       "    .dataframe thead th {\n",
       "        text-align: right;\n",
       "    }\n",
       "</style>\n",
       "<table border=\"1\" class=\"dataframe\">\n",
       "  <thead>\n",
       "    <tr style=\"text-align: right;\">\n",
       "      <th></th>\n",
       "      <th>Id</th>\n",
       "      <th>Answer</th>\n",
       "    </tr>\n",
       "  </thead>\n",
       "  <tbody>\n",
       "    <tr>\n",
       "      <th>0</th>\n",
       "      <td>1</td>\n",
       "      <td>4</td>\n",
       "    </tr>\n",
       "    <tr>\n",
       "      <th>1</th>\n",
       "      <td>2</td>\n",
       "      <td>2</td>\n",
       "    </tr>\n",
       "    <tr>\n",
       "      <th>2</th>\n",
       "      <td>3</td>\n",
       "      <td>3</td>\n",
       "    </tr>\n",
       "    <tr>\n",
       "      <th>3</th>\n",
       "      <td>4</td>\n",
       "      <td>2</td>\n",
       "    </tr>\n",
       "    <tr>\n",
       "      <th>4</th>\n",
       "      <td>5</td>\n",
       "      <td>1</td>\n",
       "    </tr>\n",
       "    <tr>\n",
       "      <th>5</th>\n",
       "      <td>6</td>\n",
       "      <td>5</td>\n",
       "    </tr>\n",
       "    <tr>\n",
       "      <th>6</th>\n",
       "      <td>7</td>\n",
       "      <td>2</td>\n",
       "    </tr>\n",
       "    <tr>\n",
       "      <th>7</th>\n",
       "      <td>8</td>\n",
       "      <td>1</td>\n",
       "    </tr>\n",
       "    <tr>\n",
       "      <th>8</th>\n",
       "      <td>9</td>\n",
       "      <td>4</td>\n",
       "    </tr>\n",
       "    <tr>\n",
       "      <th>9</th>\n",
       "      <td>10</td>\n",
       "      <td>5</td>\n",
       "    </tr>\n",
       "    <tr>\n",
       "      <th>10</th>\n",
       "      <td>11</td>\n",
       "      <td>3</td>\n",
       "    </tr>\n",
       "    <tr>\n",
       "      <th>11</th>\n",
       "      <td>12</td>\n",
       "      <td>3</td>\n",
       "    </tr>\n",
       "    <tr>\n",
       "      <th>12</th>\n",
       "      <td>13</td>\n",
       "      <td>3</td>\n",
       "    </tr>\n",
       "    <tr>\n",
       "      <th>13</th>\n",
       "      <td>14</td>\n",
       "      <td>2</td>\n",
       "    </tr>\n",
       "    <tr>\n",
       "      <th>14</th>\n",
       "      <td>15</td>\n",
       "      <td>5</td>\n",
       "    </tr>\n",
       "    <tr>\n",
       "      <th>15</th>\n",
       "      <td>16</td>\n",
       "      <td>1</td>\n",
       "    </tr>\n",
       "    <tr>\n",
       "      <th>16</th>\n",
       "      <td>17</td>\n",
       "      <td>3</td>\n",
       "    </tr>\n",
       "    <tr>\n",
       "      <th>17</th>\n",
       "      <td>18</td>\n",
       "      <td>3</td>\n",
       "    </tr>\n",
       "    <tr>\n",
       "      <th>18</th>\n",
       "      <td>19</td>\n",
       "      <td>2</td>\n",
       "    </tr>\n",
       "    <tr>\n",
       "      <th>19</th>\n",
       "      <td>20</td>\n",
       "      <td>1</td>\n",
       "    </tr>\n",
       "    <tr>\n",
       "      <th>20</th>\n",
       "      <td>21</td>\n",
       "      <td>4</td>\n",
       "    </tr>\n",
       "    <tr>\n",
       "      <th>21</th>\n",
       "      <td>22</td>\n",
       "      <td>2</td>\n",
       "    </tr>\n",
       "    <tr>\n",
       "      <th>22</th>\n",
       "      <td>23</td>\n",
       "      <td>3</td>\n",
       "    </tr>\n",
       "    <tr>\n",
       "      <th>23</th>\n",
       "      <td>24</td>\n",
       "      <td>1</td>\n",
       "    </tr>\n",
       "    <tr>\n",
       "      <th>24</th>\n",
       "      <td>25</td>\n",
       "      <td>5</td>\n",
       "    </tr>\n",
       "    <tr>\n",
       "      <th>25</th>\n",
       "      <td>26</td>\n",
       "      <td>1</td>\n",
       "    </tr>\n",
       "    <tr>\n",
       "      <th>26</th>\n",
       "      <td>27</td>\n",
       "      <td>4</td>\n",
       "    </tr>\n",
       "    <tr>\n",
       "      <th>27</th>\n",
       "      <td>28</td>\n",
       "      <td>2</td>\n",
       "    </tr>\n",
       "    <tr>\n",
       "      <th>28</th>\n",
       "      <td>29</td>\n",
       "      <td>5</td>\n",
       "    </tr>\n",
       "    <tr>\n",
       "      <th>29</th>\n",
       "      <td>30</td>\n",
       "      <td>2</td>\n",
       "    </tr>\n",
       "    <tr>\n",
       "      <th>30</th>\n",
       "      <td>31</td>\n",
       "      <td>5</td>\n",
       "    </tr>\n",
       "    <tr>\n",
       "      <th>31</th>\n",
       "      <td>32</td>\n",
       "      <td>5</td>\n",
       "    </tr>\n",
       "    <tr>\n",
       "      <th>32</th>\n",
       "      <td>33</td>\n",
       "      <td>3</td>\n",
       "    </tr>\n",
       "    <tr>\n",
       "      <th>33</th>\n",
       "      <td>34</td>\n",
       "      <td>1</td>\n",
       "    </tr>\n",
       "    <tr>\n",
       "      <th>34</th>\n",
       "      <td>35</td>\n",
       "      <td>5</td>\n",
       "    </tr>\n",
       "    <tr>\n",
       "      <th>35</th>\n",
       "      <td>36</td>\n",
       "      <td>4</td>\n",
       "    </tr>\n",
       "  </tbody>\n",
       "</table>\n",
       "</div>"
      ],
      "text/plain": [
       "    Id  Answer\n",
       "0    1       4\n",
       "1    2       2\n",
       "2    3       3\n",
       "3    4       2\n",
       "4    5       1\n",
       "5    6       5\n",
       "6    7       2\n",
       "7    8       1\n",
       "8    9       4\n",
       "9   10       5\n",
       "10  11       3\n",
       "11  12       3\n",
       "12  13       3\n",
       "13  14       2\n",
       "14  15       5\n",
       "15  16       1\n",
       "16  17       3\n",
       "17  18       3\n",
       "18  19       2\n",
       "19  20       1\n",
       "20  21       4\n",
       "21  22       2\n",
       "22  23       3\n",
       "23  24       1\n",
       "24  25       5\n",
       "25  26       1\n",
       "26  27       4\n",
       "27  28       2\n",
       "28  29       5\n",
       "29  30       2\n",
       "30  31       5\n",
       "31  32       5\n",
       "32  33       3\n",
       "33  34       1\n",
       "34  35       5\n",
       "35  36       4"
      ]
     },
     "execution_count": 85,
     "metadata": {},
     "output_type": "execute_result"
    }
   ],
   "source": [
    "pd.DataFrame({'Id':range(1,len(answer_ls)+1), 'Answer':answer_ls}, columns=['Id', 'Answer'])"
   ]
  },
  {
   "cell_type": "code",
   "execution_count": null,
   "metadata": {},
   "outputs": [],
   "source": []
  }
 ],
 "metadata": {
  "kernelspec": {
   "display_name": "Python 3",
   "language": "python",
   "name": "python3"
  },
  "language_info": {
   "codemirror_mode": {
    "name": "ipython",
    "version": 3
   },
   "file_extension": ".py",
   "mimetype": "text/x-python",
   "name": "python",
   "nbconvert_exporter": "python",
   "pygments_lexer": "ipython3",
   "version": "3.7.6"
  }
 },
 "nbformat": 4,
 "nbformat_minor": 4
}
